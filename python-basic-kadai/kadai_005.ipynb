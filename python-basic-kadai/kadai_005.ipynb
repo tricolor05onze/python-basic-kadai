{
  "nbformat": 4,
  "nbformat_minor": 0,
  "metadata": {
    "colab": {
      "provenance": []
    },
    "kernelspec": {
      "name": "python3",
      "display_name": "Python 3"
    },
    "language_info": {
      "name": "python"
    }
  },
  "cells": [
    {
      "cell_type": "code",
      "execution_count": null,
      "metadata": {
        "id": "ucvjSYtMl2dl"
      },
      "outputs": [],
      "source": [
        "top_side = 10\n",
        "bottom_side = 20\n",
        "height = 5\n",
        "\n",
        "side = top_side*bottom_side\n",
        "area = side * height\n",
        "print(f\"{area}cm²\")"
      ]
    }
  ]
}